{
 "cells": [
  {
   "cell_type": "code",
   "execution_count": 6,
   "metadata": {},
   "outputs": [],
   "source": [
    "import numpy as np \n",
    "from scipy.special import binom\n",
    "import matplotlib.pyplot as plt\n",
    "import random"
   ]
  },
  {
   "cell_type": "code",
   "execution_count": 7,
   "metadata": {},
   "outputs": [],
   "source": [
    "%matplotlib inline"
   ]
  },
  {
   "cell_type": "code",
   "execution_count": 16,
   "metadata": {},
   "outputs": [],
   "source": [
    "WIDTH, HEIGHT = 224, 224\n",
    "n_points  = 100 \n",
    "coords_ = []\n",
    "\n",
    "for el in range(n_points):\n",
    "    coords_.append((random.choice(range(WIDTH) ), random.choice(range( HEIGHT))))"
   ]
  },
  {
   "cell_type": "code",
   "execution_count": 18,
   "metadata": {},
   "outputs": [
    {
     "data": {
      "text/plain": [
       "[(79, 13),\n",
       " (181, 53),\n",
       " (147, 162),\n",
       " (193, 176),\n",
       " (87, 163),\n",
       " (221, 163),\n",
       " (163, 210),\n",
       " (39, 170),\n",
       " (134, 176),\n",
       " (155, 124),\n",
       " (154, 145),\n",
       " (69, 9),\n",
       " (157, 138),\n",
       " (214, 91),\n",
       " (114, 9),\n",
       " (89, 0),\n",
       " (85, 186),\n",
       " (19, 72),\n",
       " (7, 181),\n",
       " (2, 177),\n",
       " (40, 152),\n",
       " (23, 213),\n",
       " (178, 190),\n",
       " (47, 98),\n",
       " (216, 32),\n",
       " (108, 136),\n",
       " (27, 173),\n",
       " (140, 94),\n",
       " (197, 160),\n",
       " (108, 128),\n",
       " (63, 179),\n",
       " (92, 115),\n",
       " (155, 199),\n",
       " (182, 50),\n",
       " (81, 23),\n",
       " (134, 204),\n",
       " (202, 118),\n",
       " (33, 204),\n",
       " (120, 217),\n",
       " (184, 156),\n",
       " (185, 84),\n",
       " (101, 190),\n",
       " (212, 203),\n",
       " (198, 185),\n",
       " (165, 95),\n",
       " (223, 48),\n",
       " (53, 159),\n",
       " (196, 87),\n",
       " (49, 149),\n",
       " (84, 35),\n",
       " (170, 162),\n",
       " (63, 5),\n",
       " (140, 110),\n",
       " (51, 124),\n",
       " (120, 110),\n",
       " (117, 11),\n",
       " (214, 16),\n",
       " (178, 20),\n",
       " (143, 192),\n",
       " (160, 219),\n",
       " (73, 153),\n",
       " (164, 141),\n",
       " (106, 94),\n",
       " (60, 64),\n",
       " (16, 213),\n",
       " (25, 8),\n",
       " (190, 164),\n",
       " (178, 209),\n",
       " (5, 139),\n",
       " (127, 25),\n",
       " (147, 137),\n",
       " (17, 83),\n",
       " (59, 120),\n",
       " (13, 66),\n",
       " (150, 66),\n",
       " (184, 71),\n",
       " (150, 47),\n",
       " (208, 107),\n",
       " (98, 113),\n",
       " (159, 167),\n",
       " (148, 106),\n",
       " (171, 136),\n",
       " (79, 26),\n",
       " (43, 164),\n",
       " (48, 129),\n",
       " (167, 54),\n",
       " (160, 118),\n",
       " (123, 38),\n",
       " (129, 150),\n",
       " (149, 154),\n",
       " (130, 167),\n",
       " (217, 174),\n",
       " (95, 15),\n",
       " (43, 15),\n",
       " (116, 67),\n",
       " (110, 119),\n",
       " (19, 61),\n",
       " (99, 63),\n",
       " (138, 100),\n",
       " (155, 101)]"
      ]
     },
     "execution_count": 18,
     "metadata": {},
     "output_type": "execute_result"
    }
   ],
   "source": [
    "coords_"
   ]
  },
  {
   "cell_type": "code",
   "execution_count": 22,
   "metadata": {},
   "outputs": [
    {
     "data": {
      "text/plain": [
       "<matplotlib.collections.PathCollection at 0x7efdec55b450>"
      ]
     },
     "execution_count": 22,
     "metadata": {},
     "output_type": "execute_result"
    },
    {
     "data": {
      "image/png": "[encoded data removed]",
      "text/plain": [
       "<Figure size 432x288 with 1 Axes>"
      ]
     },
     "metadata": {
      "needs_background": "light"
     },
     "output_type": "display_data"
    }
   ],
   "source": [
    "_ixes = [x[0] for x in coords_]\n",
    "_ys = [y[1] for y in coords_]\n",
    "plt.scatter(_ixes,_ys)"
   ]
  },
  {
   "cell_type": "code",
   "execution_count": 30,
   "metadata": {},
   "outputs": [],
   "source": [
    "bernstein = lambda n, k, t: binom(n,k)* t**k * (1.-t)**(n-k)"
   ]
  },
  {
   "cell_type": "code",
   "execution_count": 31,
   "metadata": {},
   "outputs": [
    {
     "data": {
      "text/plain": [
       "<function __main__.<lambda>(n, k, t)>"
      ]
     },
     "execution_count": 31,
     "metadata": {},
     "output_type": "execute_result"
    }
   ],
   "source": [
    "bernstein"
   ]
  },
  {
   "cell_type": "code",
   "execution_count": 35,
   "metadata": {},
   "outputs": [
    {
     "data": {
      "text/plain": [
       "2.0"
      ]
     },
     "execution_count": 35,
     "metadata": {},
     "output_type": "execute_result"
    }
   ],
   "source": [
    "binom(2,1)"
   ]
  },
  {
   "cell_type": "code",
   "execution_count": 28,
   "metadata": {},
   "outputs": [],
   "source": [
    "import numpy as np\n",
    "from scipy.special import binom\n",
    "import matplotlib.pyplot as plt\n",
    "\n",
    "\n",
    "bernstein = lambda n, k, t: binom(n,k)* t**k * (1.-t)**(n-k)\n",
    "\n",
    "def bezier(points, num=200):\n",
    "    N = len(points)\n",
    "    t = np.linspace(0, 1, num=num)\n",
    "    curve = np.zeros((num, 2))\n",
    "    for i in range(N):\n",
    "        curve += np.outer(bernstein(N - 1, i, t), points[i])\n",
    "    return curve\n",
    "\n",
    "class Segment():\n",
    "    def __init__(self, p1, p2, angle1, angle2, **kw):\n",
    "        self.p1 = p1; self.p2 = p2\n",
    "        self.angle1 = angle1; self.angle2 = angle2\n",
    "        self.numpoints = kw.get(\"numpoints\", 100)\n",
    "        r = kw.get(\"r\", 0.3)\n",
    "        d = np.sqrt(np.sum((self.p2-self.p1)**2))\n",
    "        self.r = r*d\n",
    "        self.p = np.zeros((4,2))\n",
    "        self.p[0,:] = self.p1[:]\n",
    "        self.p[3,:] = self.p2[:]\n",
    "        self.calc_intermediate_points(self.r)\n",
    "\n",
    "    def calc_intermediate_points(self,r):\n",
    "        self.p[1,:] = self.p1 + np.array([self.r*np.cos(self.angle1),\n",
    "                                    self.r*np.sin(self.angle1)])\n",
    "        self.p[2,:] = self.p2 + np.array([self.r*np.cos(self.angle2+np.pi),\n",
    "                                    self.r*np.sin(self.angle2+np.pi)])\n",
    "        self.curve = bezier(self.p,self.numpoints)\n",
    "\n",
    "\n",
    "def get_curve(points, **kw):\n",
    "    segments = []\n",
    "    for i in range(len(points)-1):\n",
    "        seg = Segment(points[i,:2], points[i+1,:2], points[i,2],points[i+1,2],**kw)\n",
    "        segments.append(seg)\n",
    "    curve = np.concatenate([s.curve for s in segments])\n",
    "    return segments, curve\n",
    "\n",
    "def ccw_sort(p):\n",
    "    d = p-np.mean(p,axis=0)\n",
    "    s = np.arctan2(d[:,0], d[:,1])\n",
    "    return p[np.argsort(s),:]\n",
    "\n",
    "def get_bezier_curve(a, rad=0.2, edgy=0):\n",
    "    \"\"\" given an array of points *a*, create a curve through\n",
    "    those points. \n",
    "    *rad* is a number between 0 and 1 to steer the distance of\n",
    "          control points.\n",
    "    *edgy* is a parameter which controls how \"edgy\" the curve is,\n",
    "           edgy=0 is smoothest.\"\"\"\n",
    "    p = np.arctan(edgy)/np.pi+.5\n",
    "    a = ccw_sort(a)\n",
    "    a = np.append(a, np.atleast_2d(a[0,:]), axis=0)\n",
    "    d = np.diff(a, axis=0)\n",
    "    ang = np.arctan2(d[:,1],d[:,0])\n",
    "    f = lambda ang : (ang>=0)*ang + (ang<0)*(ang+2*np.pi)\n",
    "    ang = f(ang)\n",
    "    ang1 = ang\n",
    "    ang2 = np.roll(ang,1)\n",
    "    ang = p*ang1 + (1-p)*ang2 + (np.abs(ang2-ang1) > np.pi )*np.pi\n",
    "    ang = np.append(ang, [ang[0]])\n",
    "    a = np.append(a, np.atleast_2d(ang).T, axis=1)\n",
    "    s, c = get_curve(a, r=rad, method=\"var\")\n",
    "    x,y = c.T\n",
    "    return x,y, a\n",
    "\n",
    "\n",
    "def get_random_points(n=5, scale=0.8, mindst=None, rec=0):\n",
    "    \"\"\" create n random points in the unit square, which are *mindst*\n",
    "    apart, then scale them.\"\"\"\n",
    "    mindst = mindst or .7/n\n",
    "    a = np.random.rand(n,2)\n",
    "    d = np.sqrt(np.sum(np.diff(ccw_sort(a), axis=0), axis=1)**2)\n",
    "    if np.all(d >= mindst) or rec>=200:\n",
    "        return a*scale\n",
    "    else:\n",
    "        return get_random_points(n=n, scale=scale, mindst=mindst, rec=rec+1)"
   ]
  },
  {
   "cell_type": "code",
   "execution_count": 29,
   "metadata": {},
   "outputs": [
    {
     "data": {
      "image/png": "[encoded data removed]",
      "text/plain": [
       "<Figure size 432x288 with 1 Axes>"
      ]
     },
     "metadata": {
      "needs_background": "light"
     },
     "output_type": "display_data"
    }
   ],
   "source": [
    "fig, ax = plt.subplots()\n",
    "ax.set_aspect(\"equal\")\n",
    "\n",
    "rad = 0.2\n",
    "edgy = 0.05\n",
    "\n",
    "for c in np.array([[0,0], [0,1], [1,0], [1,1]]):\n",
    "\n",
    "    a = get_random_points(n=7, scale=1) + c\n",
    "    x,y, _ = get_bezier_curve(a,rad=rad, edgy=edgy)\n",
    "    plt.plot(x,y)\n",
    "\n",
    "plt.show()"
   ]
  },
  {
   "cell_type": "code",
   "execution_count": null,
   "metadata": {},
   "outputs": [],
   "source": []
  }
 ],
 "metadata": {
  "kernelspec": {
   "display_name": "bengali",
   "language": "python",
   "name": "bengali"
  },
  "language_info": {
   "codemirror_mode": {
    "name": "ipython",
    "version": 3
   },
   "file_extension": ".py",
   "mimetype": "text/x-python",
   "name": "python",
   "nbconvert_exporter": "python",
   "pygments_lexer": "ipython3",
   "version": "3.7.4"
  }
 },
 "nbformat": 4,
 "nbformat_minor": 2
}
